{
 "cells": [
  {
   "cell_type": "code",
   "execution_count": 7,
   "metadata": {},
   "outputs": [],
   "source": [
    "#爬取梨视频数据\n",
    "import requests\n",
    "import re\n",
    "from lxml import etree\n",
    "from multiprocessing.dummy import Pool\n",
    "import random"
   ]
  },
  {
   "cell_type": "code",
   "execution_count": 9,
   "metadata": {},
   "outputs": [
    {
     "data": {
      "text/plain": [
       "[None, None, None, None]"
      ]
     },
     "execution_count": 9,
     "metadata": {},
     "output_type": "execute_result"
    }
   ],
   "source": [
    "#实例化一个线程池对象\n",
    "pool = Pool(5)\n",
    "url = 'https://www.pearvideo.com/category_1'\n",
    "headers = {\n",
    "    'User-Agent':'Mozilla/5.0 (Windows NT 6.1; Win64; x64) AppleWebKit/537.36 (KHTML, like Gecko) Chrome/72.0.3626.119 Safari/537.36'\n",
    "}\n",
    "page_text = requests.get(url=url,headers=headers).text\n",
    "tree = etree.HTML(page_text)\n",
    "li_list = tree.xpath('//div[@id=\"listvideoList\"]/ul/li')\n",
    "\n",
    "video_url_list = []\n",
    "for li in li_list:\n",
    "    detail_url = 'https://www.pearvideo.com/'+li.xpath('./div/a/@href')[0]\n",
    "    detail_page = requests.get(url=detail_url,headers=headers).text\n",
    "    video_url = re.findall('srcUrl=\"(.*?)\",vdoUrl',detail_page,re.S)[0]\n",
    "    video_url_list.append(video_url)\n",
    "    \n",
    "video_data_list = pool.map(getVideoData,video_url_list)\n",
    "\n",
    "pool.map(saveVideo,video_data_list)"
   ]
  },
  {
   "cell_type": "code",
   "execution_count": 6,
   "metadata": {},
   "outputs": [],
   "source": [
    "def getVideoData(url):\n",
    "    return requests.get(url=url,headers=headers).content"
   ]
  },
  {
   "cell_type": "code",
   "execution_count": 8,
   "metadata": {},
   "outputs": [],
   "source": [
    "def saveVideo(data):\n",
    "    fileName = str(random.randint(0,5000))+'.mp4'\n",
    "    with open(fileName,'wb') as fp:\n",
    "        fp.write(data)"
   ]
  },
  {
   "cell_type": "code",
   "execution_count": null,
   "metadata": {},
   "outputs": [],
   "source": []
  }
 ],
 "metadata": {
  "kernelspec": {
   "display_name": "Python 3",
   "language": "python",
   "name": "python3"
  },
  "language_info": {
   "codemirror_mode": {
    "name": "ipython",
    "version": 3
   },
   "file_extension": ".py",
   "mimetype": "text/x-python",
   "name": "python",
   "nbconvert_exporter": "python",
   "pygments_lexer": "ipython3",
   "version": "3.7.0"
  }
 },
 "nbformat": 4,
 "nbformat_minor": 2
}

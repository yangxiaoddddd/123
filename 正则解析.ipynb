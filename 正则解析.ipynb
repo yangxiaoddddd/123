{
 "cells": [
  {
   "cell_type": "code",
   "execution_count": 1,
   "metadata": {},
   "outputs": [],
   "source": [
    "import re"
   ]
  },
  {
   "cell_type": "code",
   "execution_count": 6,
   "metadata": {},
   "outputs": [
    {
     "data": {
      "text/plain": [
       "['i love you very much', 'i love she', 'i love her']"
      ]
     },
     "execution_count": 6,
     "metadata": {},
     "output_type": "execute_result"
    }
   ],
   "source": [
    "string = '''fall in love with you\n",
    "i love you very much\n",
    "i love she\n",
    "i love her'''\n",
    "\n",
    "re.findall('^i.*',string,re.M)\n"
   ]
  },
  {
   "cell_type": "code",
   "execution_count": 10,
   "metadata": {},
   "outputs": [
    {
     "data": {
      "text/plain": [
       "['细思极恐\\n你的队友在看书\\n你的敌人在磨刀\\n你的闺蜜在减肥\\n隔壁老王在练腰\\n', '']"
      ]
     },
     "execution_count": 10,
     "metadata": {},
     "output_type": "execute_result"
    }
   ],
   "source": [
    "#####################################################################\n",
    "#匹配全部行\n",
    "string1 = \"\"\"细思极恐\n",
    "你的队友在看书\n",
    "你的敌人在磨刀\n",
    "你的闺蜜在减肥\n",
    "隔壁老王在练腰\n",
    "\"\"\"\n",
    "re.findall('.*',string1,re.S)"
   ]
  },
  {
   "cell_type": "code",
   "execution_count": 11,
   "metadata": {},
   "outputs": [],
   "source": [
    "#爬取糗事百科中所有的图片进行保存"
   ]
  },
  {
   "cell_type": "code",
   "execution_count": 15,
   "metadata": {},
   "outputs": [],
   "source": [
    "import requests\n",
    "import re\n",
    "import urllib\n",
    "import os"
   ]
  },
  {
   "cell_type": "code",
   "execution_count": 19,
   "metadata": {
    "collapsed": true
   },
   "outputs": [
    {
     "name": "stdout",
     "output_type": "stream",
     "text": [
      "enter a start pageNum:1\n",
      "enter a end pageNum:3\n",
      "qiutu/7ZROALESTIXR2PT0.jpg 下载成功!\n",
      "qiutu/87BCK2347AYQGCKL.jpg 下载成功!\n",
      "qiutu/6SS0B1LUBWSR5SHN.jpg 下载成功!\n",
      "qiutu/XXH8KATZAWLG7651.jpg 下载成功!\n",
      "qiutu/QG8TB5ATZCPF9BC3.jpg 下载成功!\n",
      "qiutu/8SQOAR1GPEO589AL.jpg 下载成功!\n",
      "qiutu/V35TX83N3F39GWFL.jpg 下载成功!\n",
      "qiutu/0CFUSW6C3Y1NTDIR.jpg 下载成功!\n",
      "qiutu/X2W7GMHL9KXC2R0W.jpg 下载成功!\n",
      "qiutu/S8XTOTCMM0JIKMG2.jpg 下载成功!\n",
      "qiutu/JW1OK6WR84RWNHER.jpg 下载成功!\n",
      "qiutu/RXAJE4LOUOWGW2K7.jpg 下载成功!\n",
      "qiutu/GO335UGO0OZ9AZKX.jpg 下载成功!\n",
      "qiutu/6CZ4922UT83L5JZH.jpg 下载成功!\n",
      "qiutu/FQ6OKFS6BGXMIMO1.jpg 下载成功!\n",
      "qiutu/NJPSRX4711FPLA38.jpg 下载成功!\n",
      "qiutu/MG1SR2KFP5VIQZRZ.jpg 下载成功!\n",
      "qiutu/1AZQGNRWSNC748MW.jpg 下载成功!\n",
      "qiutu/EMKKKFPQR4NRVH4L.jpg 下载成功!\n",
      "qiutu/UYY8MMPTTRW7EK0T.jpg 下载成功!\n",
      "qiutu/7RFKQOD7YOYDET8B.jpg 下载成功!\n",
      "qiutu/4P553Y93BQWBBO3C.jpg 下载成功!\n",
      "qiutu/YLIL9RXG5KOJB99S.jpg 下载成功!\n",
      "qiutu/34B52W610WQDKR3P.jpg 下载成功!\n",
      "qiutu/E59CP14ZJXB9S5AZ.jpg 下载成功!\n",
      "qiutu/UMCSFS0T61TIB0DP.jpg 下载成功!\n",
      "qiutu/47JZBSXFGJ9MGSSS.jpg 下载成功!\n",
      "qiutu/Q0VKM2U0PY2FJSS7.jpg 下载成功!\n",
      "qiutu/OZEHM2GPIMSTQTTT.jpg 下载成功!\n",
      "qiutu/3Q4NOEXJJAYRAGLN.jpg 下载成功!\n",
      "qiutu/5CFG57WYIK6L4L2X.jpg 下载成功!\n",
      "qiutu/9B8FFQIMRFQNPMSS.jpg 下载成功!\n",
      "qiutu/PBEY7XR544MI542R.jpg 下载成功!\n",
      "qiutu/3OOMQKVN6IZP56MD.jpg 下载成功!\n",
      "qiutu/SY3STUEWPH5NZXMS.jpg 下载成功!\n",
      "qiutu/EW3PVHIU9U86V7L6.jpg 下载成功!\n",
      "qiutu/BD9AOPE2M89FX8WH.jpg 下载成功!\n",
      "qiutu/VL8M6LL2SKKCFE8G.jpg 下载成功!\n",
      "qiutu/EF5QKXNPIW95GSMB.jpg 下载成功!\n",
      "qiutu/285CXJABROBB3YVS.jpg 下载成功!\n",
      "qiutu/UMNPRZRV9BC748X5.jpg 下载成功!\n",
      "qiutu/SDVCFWQ0G6FF2Q71.jpg 下载成功!\n",
      "qiutu/DMQZFKYGNDJPWZB5.jpg 下载成功!\n",
      "qiutu/ZG2LDH8ZZY76MOCK.jpg 下载成功!\n",
      "qiutu/KEF6757AS7TE0GVG.jpg 下载成功!\n",
      "qiutu/HE0P0WKWNYAA4T1S.jpg 下载成功!\n",
      "qiutu/G921JB1Z8YZZP0T6.jpg 下载成功!\n",
      "qiutu/ZY53RTIV32DDHF2B.jpg 下载成功!\n",
      "qiutu/TKFDQJG2LLXML1B9.jpg 下载成功!\n",
      "qiutu/78QKFHLTMT85GWDG.jpg 下载成功!\n",
      "qiutu/8NMHV3OAMUTLZ6YB.jpg 下载成功!\n",
      "qiutu/NCMW05IK4PTOOTHH.jpg 下载成功!\n",
      "qiutu/8V6HSOGU9TK5XGZR.jpg 下载成功!\n",
      "qiutu/6WQ1TVUPQMZ39KQ9.jpg 下载成功!\n",
      "qiutu/LW2UGPILGWHJW6WU.jpg 下载成功!\n",
      "qiutu/OST9FQW3DOQPG1T7.jpg 下载成功!\n",
      "qiutu/3Z6RADKKXU54U56Y.jpg 下载成功!\n",
      "qiutu/L2MWQ12JHDAAGM2W.jpg 下载成功!\n",
      "qiutu/6SU9U5B7BRFMMYT0.jpg 下载成功!\n",
      "qiutu/U2KRQ4LM0OQH1MYJ.jpg 下载成功!\n",
      "over!!!\n"
     ]
    }
   ],
   "source": [
    "url = 'https://www.qiushibaike.com/pic/page/%d/?s=5170552'\n",
    "# page = 1\n",
    "headers = {\n",
    "    'User-Agent':'Mozilla/5.0 (Windows NT 6.1; Win64; x64) AppleWebKit/537.36 (KHTML, like Gecko) Chrome/72.0.3626.119 Safari/537.36'\n",
    "}\n",
    "if not os.path.exists('./qiutu'):\n",
    "    os.mkdir('./qiutu')\n",
    "    \n",
    "start_page = int(input('enter a start pageNum:'))\n",
    "end_page = int(input('enter a end pageNum:'))\n",
    "\n",
    "for page in range(start_page,end_page+1):\n",
    "    new_url = format(url%page)\n",
    "#     print(new_url)\n",
    "    page_text = requests.get(url=new_url,headers=headers).text\n",
    "    img_url_list = re.findall('<div class=\"thumb\">.*?<img src=\"(.*?)\" alt=.*?</div>',page_text,re.S)\n",
    "    for img_url in img_url_list:\n",
    "        img_url = 'https:'+img_url\n",
    "        imgName = img_url.split('/')[-1]\n",
    "        imgPath = 'qiutu/'+imgName\n",
    "        urllib.request.urlretrieve(url=img_url,filename=imgPath)\n",
    "        print(imgPath,'下载成功!')\n",
    "        \n",
    "print('over!!!')\n"
   ]
  }
 ],
 "metadata": {
  "kernelspec": {
   "display_name": "Python 3",
   "language": "python",
   "name": "python3"
  },
  "language_info": {
   "codemirror_mode": {
    "name": "ipython",
    "version": 3
   },
   "file_extension": ".py",
   "mimetype": "text/x-python",
   "name": "python",
   "nbconvert_exporter": "python",
   "pygments_lexer": "ipython3",
   "version": "3.7.0"
  }
 },
 "nbformat": 4,
 "nbformat_minor": 2
}

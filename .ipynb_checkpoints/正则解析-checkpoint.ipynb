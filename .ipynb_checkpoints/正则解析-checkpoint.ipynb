{
 "cells": [
  {
   "cell_type": "code",
   "execution_count": 1,
   "metadata": {},
   "outputs": [],
   "source": [
    "import re"
   ]
  },
  {
   "cell_type": "code",
   "execution_count": 6,
   "metadata": {},
   "outputs": [
    {
     "data": {
      "text/plain": [
       "['i love you very much', 'i love she', 'i love her']"
      ]
     },
     "execution_count": 6,
     "metadata": {},
     "output_type": "execute_result"
    }
   ],
   "source": [
    "string = '''fall in love with you\n",
    "i love you very much\n",
    "i love she\n",
    "i love her'''\n",
    "\n",
    "re.findall('^i.*',string,re.M)\n"
   ]
  },
  {
   "cell_type": "code",
   "execution_count": 10,
   "metadata": {},
   "outputs": [
    {
     "data": {
      "text/plain": [
       "['细思极恐\\n你的队友在看书\\n你的敌人在磨刀\\n你的闺蜜在减肥\\n隔壁老王在练腰\\n', '']"
      ]
     },
     "execution_count": 10,
     "metadata": {},
     "output_type": "execute_result"
    }
   ],
   "source": [
    "#####################################################################\n",
    "#匹配全部行\n",
    "string1 = \"\"\"细思极恐\n",
    "你的队友在看书\n",
    "你的敌人在磨刀\n",
    "你的闺蜜在减肥\n",
    "隔壁老王在练腰\n",
    "\"\"\"\n",
    "re.findall('.*',string1,re.S)"
   ]
  },
  {
   "cell_type": "code",
   "execution_count": 11,
   "metadata": {},
   "outputs": [],
   "source": [
    "#爬取糗事百科中所有的图片进行保存"
   ]
  },
  {
   "cell_type": "code",
   "execution_count": 15,
   "metadata": {},
   "outputs": [],
   "source": [
    "import requests\n",
    "import re\n",
    "import urllib\n",
    "import os"
   ]
  },
  {
   "cell_type": "code",
   "execution_count": 17,
   "metadata": {},
   "outputs": [
    {
     "name": "stdout",
     "output_type": "stream",
     "text": [
      "enter a start pageNum:1\n",
      "enter a end pageNum:3\n",
      "https://pic.qiushibaike.com/system/pictures/12156/121562889/medium/87BCK2347AYQGCKL.jpg\n",
      "https://pic.qiushibaike.com/system/pictures/12156/121562887/medium/6SS0B1LUBWSR5SHN.jpg\n",
      "https://pic.qiushibaike.com/system/pictures/12156/121562853/medium/XXH8KATZAWLG7651.jpg\n",
      "https://pic.qiushibaike.com/system/pictures/12156/121562792/medium/QG8TB5ATZCPF9BC3.jpg\n",
      "https://pic.qiushibaike.com/system/pictures/12156/121562768/medium/8SQOAR1GPEO589AL.jpg\n",
      "https://pic.qiushibaike.com/system/pictures/12156/121562730/medium/V35TX83N3F39GWFL.jpg\n",
      "https://pic.qiushibaike.com/system/pictures/12156/121562684/medium/0CFUSW6C3Y1NTDIR.jpg\n",
      "https://pic.qiushibaike.com/system/pictures/12156/121562674/medium/X2W7GMHL9KXC2R0W.jpg\n",
      "https://pic.qiushibaike.com/system/pictures/12156/121562670/medium/S8XTOTCMM0JIKMG2.jpg\n",
      "https://pic.qiushibaike.com/system/pictures/12156/121562643/medium/JW1OK6WR84RWNHER.jpg\n",
      "https://pic.qiushibaike.com/system/pictures/12156/121562655/medium/RXAJE4LOUOWGW2K7.jpg\n",
      "https://pic.qiushibaike.com/system/pictures/12156/121562647/medium/GO335UGO0OZ9AZKX.jpg\n",
      "https://pic.qiushibaike.com/system/pictures/12156/121562567/medium/6CZ4922UT83L5JZH.jpg\n",
      "https://pic.qiushibaike.com/system/pictures/12156/121562535/medium/FQ6OKFS6BGXMIMO1.jpg\n",
      "https://pic.qiushibaike.com/system/pictures/12156/121561014/medium/NJPSRX4711FPLA38.jpg\n",
      "https://pic.qiushibaike.com/system/pictures/12156/121562502/medium/MG1SR2KFP5VIQZRZ.jpg\n",
      "https://pic.qiushibaike.com/system/pictures/12156/121562494/medium/1AZQGNRWSNC748MW.jpg\n",
      "https://pic.qiushibaike.com/system/pictures/12156/121562453/medium/EMKKKFPQR4NRVH4L.jpg\n",
      "https://pic.qiushibaike.com/system/pictures/12156/121562447/medium/UYY8MMPTTRW7EK0T.jpg\n",
      "https://pic.qiushibaike.com/system/pictures/12156/121562442/medium/U28B1BDKZF952KSC.jpg\n"
     ]
    },
    {
     "ename": "TypeError",
     "evalue": "not all arguments converted during string formatting",
     "output_type": "error",
     "traceback": [
      "\u001b[1;31m---------------------------------------------------------------------------\u001b[0m",
      "\u001b[1;31mTypeError\u001b[0m                                 Traceback (most recent call last)",
      "\u001b[1;32m<ipython-input-17-744fd74f6a79>\u001b[0m in \u001b[0;36m<module>\u001b[1;34m()\u001b[0m\n\u001b[0;32m     11\u001b[0m \u001b[1;33m\u001b[0m\u001b[0m\n\u001b[0;32m     12\u001b[0m \u001b[1;32mfor\u001b[0m \u001b[0mpage\u001b[0m \u001b[1;32min\u001b[0m \u001b[0mrange\u001b[0m\u001b[1;33m(\u001b[0m\u001b[0mstart_page\u001b[0m\u001b[1;33m,\u001b[0m\u001b[0mend_page\u001b[0m\u001b[1;33m+\u001b[0m\u001b[1;36m1\u001b[0m\u001b[1;33m)\u001b[0m\u001b[1;33m:\u001b[0m\u001b[1;33m\u001b[0m\u001b[0m\n\u001b[1;32m---> 13\u001b[1;33m     \u001b[0mnew_url\u001b[0m \u001b[1;33m=\u001b[0m \u001b[0mformat\u001b[0m\u001b[1;33m(\u001b[0m\u001b[0murl\u001b[0m\u001b[1;33m%\u001b[0m\u001b[0mpage\u001b[0m\u001b[1;33m)\u001b[0m\u001b[1;33m\u001b[0m\u001b[0m\n\u001b[0m\u001b[0;32m     14\u001b[0m     \u001b[0mpage_text\u001b[0m \u001b[1;33m=\u001b[0m \u001b[0mrequests\u001b[0m\u001b[1;33m.\u001b[0m\u001b[0mget\u001b[0m\u001b[1;33m(\u001b[0m\u001b[0murl\u001b[0m\u001b[1;33m=\u001b[0m\u001b[0mnew_url\u001b[0m\u001b[1;33m,\u001b[0m\u001b[0mheaders\u001b[0m\u001b[1;33m=\u001b[0m\u001b[0mheaders\u001b[0m\u001b[1;33m)\u001b[0m\u001b[1;33m.\u001b[0m\u001b[0mtext\u001b[0m\u001b[1;33m\u001b[0m\u001b[0m\n\u001b[0;32m     15\u001b[0m     \u001b[0mimg_url_list\u001b[0m \u001b[1;33m=\u001b[0m \u001b[0mre\u001b[0m\u001b[1;33m.\u001b[0m\u001b[0mfindall\u001b[0m\u001b[1;33m(\u001b[0m\u001b[1;34m'<div class=\"thumb\">.*?<img src=\"(.*?)\" alt=.*?</div>'\u001b[0m\u001b[1;33m,\u001b[0m\u001b[0mpage_text\u001b[0m\u001b[1;33m,\u001b[0m\u001b[0mre\u001b[0m\u001b[1;33m.\u001b[0m\u001b[0mS\u001b[0m\u001b[1;33m)\u001b[0m\u001b[1;33m\u001b[0m\u001b[0m\n",
      "\u001b[1;31mTypeError\u001b[0m: not all arguments converted during string formatting"
     ]
    }
   ],
   "source": [
    "url = 'https://www.qiushibaike.com/pic/page/%d/?s=5170552'\n",
    "# page = 1\n",
    "headers = {\n",
    "    'User-Agent':'Mozilla/5.0 (Windows NT 6.1; Win64; x64) AppleWebKit/537.36 (KHTML, like Gecko) Chrome/72.0.3626.119 Safari/537.36'\n",
    "}\n",
    "if not os.path.exists('./qiutu'):\n",
    "    os.mkdir('./qiutu')\n",
    "    \n",
    "start_page = int(input('enter a start pageNum:'))\n",
    "end_page = int(input('enter a end pageNum:'))\n",
    "\n",
    "for page in range(start_page,end_page+1):\n",
    "    new_url = format(url%page)\n",
    "    page_text = requests.get(url=new_url,headers=headers).text\n",
    "    img_url_list = re.findall('<div class=\"thumb\">.*?<img src=\"(.*?)\" alt=.*?</div>',page_text,re.S)\n",
    "    for url in img_url_list:\n",
    "        url = 'https:'+url\n",
    "        imgName = url.split('/')[-1]\n",
    "        imgPath = 'qiutu/'+imgName\n",
    "        urllib.request.urlretrieve(url=url,filename=imgPath)\n",
    "        #print(imgPath,'下载成功!')\n",
    "        \n",
    "print('over!!!')\n"
   ]
  },
  {
   "cell_type": "code",
   "execution_count": null,
   "metadata": {},
   "outputs": [],
   "source": [
    "<div class=\"thumb\">\n",
    "\n",
    "<a href=\"/article/121562313\" target=\"_blank\">\n",
    "<img src=\"//pic.qiushibaike.com/system/pictures/12156/121562313/medium/7RFKQOD7YOYDET8B.jpg\" alt=\"你们说得是一件东西吗\">\n",
    "</a>\n",
    "\n",
    "</div>"
   ]
  },
  {
   "cell_type": "code",
   "execution_count": null,
   "metadata": {},
   "outputs": [],
   "source": [
    "<div class=\"thumb\">.*?<img src=\"(.*?)\" alt=.*?</div>"
   ]
  }
 ],
 "metadata": {
  "kernelspec": {
   "display_name": "Python 3",
   "language": "python",
   "name": "python3"
  },
  "language_info": {
   "codemirror_mode": {
    "name": "ipython",
    "version": 3
   },
   "file_extension": ".py",
   "mimetype": "text/x-python",
   "name": "python",
   "nbconvert_exporter": "python",
   "pygments_lexer": "ipython3",
   "version": "3.7.0"
  }
 },
 "nbformat": 4,
 "nbformat_minor": 2
}

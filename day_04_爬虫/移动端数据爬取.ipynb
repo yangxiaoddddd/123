{
 "cells": [
  {
   "cell_type": "markdown",
   "metadata": {},
   "source": [
    "- 配置fiddler\n",
    "    - tools->options->connection->allow remote computer to connect\n",
    "    - fiddler port:xxxx\n",
    "- 移动端安装fiddler的证书:\n",
    "    - 保证移动端和fiddler所在的pc的网络在同一个网段下\n",
    "    - 在移动端的浏览器中:fiddler所在机器的ip地址:fiddler的端口号\n",
    "    - 证书下载完毕后进行安装且设置信任!\n",
    "- 配置手机的网络:\n",
    "    - 给手机设置一个代理ip:port:"
   ]
  },
  {
   "cell_type": "code",
   "execution_count": null,
   "metadata": {},
   "outputs": [],
   "source": []
  }
 ],
 "metadata": {
  "kernelspec": {
   "display_name": "Python 3",
   "language": "python",
   "name": "python3"
  },
  "language_info": {
   "codemirror_mode": {
    "name": "ipython",
    "version": 3
   },
   "file_extension": ".py",
   "mimetype": "text/x-python",
   "name": "python",
   "nbconvert_exporter": "python",
   "pygments_lexer": "ipython3",
   "version": "3.7.0"
  }
 },
 "nbformat": 4,
 "nbformat_minor": 2
}

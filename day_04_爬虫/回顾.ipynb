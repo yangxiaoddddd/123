{
 "cells": [
  {
   "cell_type": "markdown",
   "metadata": {},
   "source": [
    " - 开发者用户:\n",
    "     - 创建一个软件\n",
    "     - 下载示例代码\n",
    "     - 超时时间\n",
    "- 模拟登录:\n",
    "    - 爬取一些基于当前用户的相关数据信息\n",
    " \n",
    "- 验证码\n",
    "- cookie\n",
    "- 动态数据加载\n",
    "- \n",
    "\n",
    "- selenium phantomjs 谷歌无头浏览器  驱动程序\n",
    "- 作用:处理动态加载的数据\n"
   ]
  }
 ],
 "metadata": {
  "kernelspec": {
   "display_name": "Python 3",
   "language": "python",
   "name": "python3"
  },
  "language_info": {
   "codemirror_mode": {
    "name": "ipython",
    "version": 3
   },
   "file_extension": ".py",
   "mimetype": "text/x-python",
   "name": "python",
   "nbconvert_exporter": "python",
   "pygments_lexer": "ipython3",
   "version": "3.7.0"
  }
 },
 "nbformat": 4,
 "nbformat_minor": 2
}
